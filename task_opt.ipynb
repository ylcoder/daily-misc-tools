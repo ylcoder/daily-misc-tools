{
  "nbformat": 4,
  "nbformat_minor": 0,
  "metadata": {
    "colab": {
      "name": "scratch2.ipynb",
      "provenance": [],
      "collapsed_sections": []
    },
    "kernelspec": {
      "name": "python3",
      "display_name": "Python 3"
    },
    "language_info": {
      "name": "python"
    }
  },
  "cells": [
    {
      "cell_type": "markdown",
      "source": [
        "The Knapsack Problem.  Can be used to optimize daily tasks if we can estimate the effort and reward(value) for each tasks.  It is bound by the total available time we have."
      ],
      "metadata": {
        "id": "WGe8xtpOWM0D"
      }
    },
    {
      "cell_type": "code",
      "source": [
        "calls = 0\n",
        "def value(n,s,m,mem):\n",
        "  \"\"\"\n",
        "  n - tasks left\n",
        "  s - time left\n",
        "  m - a list of (value,task)\n",
        "  mem - cache the intermediate results\n",
        "  \"\"\"\n",
        "  global calls\n",
        "  calls += 1\n",
        "  # print(f'#{calls}:n={n},s={s}')\n",
        "  if n == 0:\n",
        "    return 0\n",
        "\n",
        "  if n in mem and s in mem[n]:\n",
        "    return mem[n][s]\n",
        "\n",
        "  if(m[n-1][1] > s): #space exceeded\n",
        "    result = value(n-1, s, m, mem)\n",
        "  else:\n",
        "    result = max( m[n-1][0]  + value(n-1, s-m[n-1][1], m, mem ), value(n-1, s, m, mem))\n",
        "  \n",
        "  if n not in mem:\n",
        "    mem[n] = {}\n",
        "    \n",
        "  mem[n][s] = result\n",
        "  return result"
      ],
      "metadata": {
        "id": "qd4JDfMTWGDr"
      },
      "execution_count": null,
      "outputs": []
    },
    {
      "cell_type": "code",
      "source": [
        "def get_opt_tasks(v, t, total_time):\n",
        "  m = list(zip(v,t))\n",
        "  efficiency = [i[0]/i[1] for i in m]\n",
        "  mem = {} #clear cache first\n",
        "  total = value(len(v), total_time, m, mem)\n",
        "  # print(f'total recursive calls made={calls}')\n",
        "\n",
        "  #print out the tasks picked\n",
        "  i = len(t)  #task\n",
        "  j = total_time #time\n",
        "  picked=[]\n",
        "  while i>0 and j>0:\n",
        "    # print(f'i={i},j={j}')\n",
        "    if i-1 in mem and mem[i][j] == mem[i-1][j]:\n",
        "      # print(f'skip {i}')\n",
        "      i -= 1\n",
        "    else:\n",
        "      # print(f'picked={i},value={v[i-1]},time={t[i-1]},time left={j - t[i-1]}')\n",
        "      picked.append(i)\n",
        "      j -= t[i-1] #reduce the effort\n",
        "      i -=1\n",
        "\n",
        "  efficiency_picked = [efficiency[i-1] for i in picked]\n",
        "  tasks_w_eff = zip(picked, efficiency_picked)\n",
        "  print(f'pciked tasks with efficiency={list(tasks_w_eff)}')\n",
        "  ordered_tasks_index = sorted(range(len(efficiency_picked)), key=lambda k: -efficiency_picked[k])\n",
        "  ordered_tasks = [picked[i] for i in ordered_tasks_index]\n",
        "  print(f'ordered tasks={ordered_tasks}')\n",
        "  print(f'total value={total}')\n",
        "  return ordered_tasks, total"
      ],
      "metadata": {
        "id": "GSH9Qg7iWZss"
      },
      "execution_count": null,
      "outputs": []
    },
    {
      "cell_type": "markdown",
      "source": [
        "Example 1"
      ],
      "metadata": {
        "id": "f6bNWfG5jeRE"
      }
    },
    {
      "cell_type": "code",
      "source": [
        "v = (7, 9, 5, 12, 14, 6, 12) #value\n",
        "t = (3, 4, 2, 6, 7, 3, 5) #task\n",
        "total_time = 20\n",
        "get_opt_tasks(v, t, total_time)"
      ],
      "metadata": {
        "colab": {
          "base_uri": "https://localhost:8080/"
        },
        "id": "TM73LYCBgcsk",
        "outputId": "c47a0fc0-9bb3-4195-b073-e536910860d2"
      },
      "execution_count": null,
      "outputs": [
        {
          "output_type": "stream",
          "name": "stdout",
          "text": [
            "pciked tasks with efficiency=[(7, 2.4), (4, 2.0), (3, 2.5), (2, 2.25), (1, 2.3333333333333335)]\n",
            "ordered tasks=[3, 7, 1, 2, 4]\n",
            "total value=45\n"
          ]
        },
        {
          "output_type": "execute_result",
          "data": {
            "text/plain": [
              "([3, 7, 1, 2, 4], 45)"
            ]
          },
          "metadata": {},
          "execution_count": 29
        }
      ]
    },
    {
      "cell_type": "markdown",
      "source": [
        "Example 2\n",
        "Reading the task list from a csv"
      ],
      "metadata": {
        "id": "7VXTmzBojih5"
      }
    },
    {
      "cell_type": "code",
      "source": [
        ""
      ],
      "metadata": {
        "id": "v7kjmA-GnOcT"
      },
      "execution_count": null,
      "outputs": []
    },
    {
      "cell_type": "code",
      "source": [
        "#upload a excel file to colab\n",
        "from google.colab import files\n",
        "data_to_load = files.upload()\n",
        "\n",
        "#read excel\n",
        "import io\n",
        "import pandas as pd\n",
        "df = pd.read_excel(io.BytesIO(data_to_load['task.xlsx']))\n",
        "v = df['Reward'].tolist()\n",
        "t = df['Effort'].tolist()\n",
        "total_time = 20\n",
        "get_opt_tasks(v, t, total_time)"
      ],
      "metadata": {
        "id": "kJ8l-0b9oaRh",
        "outputId": "da6fc9ac-3410-45c6-dc3b-39445ec391df",
        "colab": {
          "base_uri": "https://localhost:8080/"
        }
      },
      "execution_count": 37,
      "outputs": [
        {
          "output_type": "stream",
          "name": "stdout",
          "text": [
            "pciked tasks with efficiency=[(7, 2.4), (4, 2.0), (3, 2.5), (2, 2.25), (1, 2.3333333333333335)]\n",
            "ordered tasks=[3, 7, 1, 2, 4]\n",
            "total value=45\n"
          ]
        },
        {
          "output_type": "execute_result",
          "data": {
            "text/plain": [
              "([3, 7, 1, 2, 4], 45)"
            ]
          },
          "metadata": {},
          "execution_count": 37
        }
      ]
    },
    {
      "cell_type": "code",
      "source": [
        "#read it from google drive\n",
        "from google.colab import drive\n",
        "drive.mount('/content/drive')"
      ],
      "metadata": {
        "id": "xSfTMGbMjhxj"
      },
      "execution_count": null,
      "outputs": []
    },
    {
      "cell_type": "code",
      "source": [
        "from google.colab import auth\n",
        "auth.authenticate_user()\n",
        "\n",
        "import gspread\n",
        "from oauth2client.client import GoogleCredentials\n",
        "import numpy as np\n",
        "\n",
        "gc = gspread.authorize(GoogleCredentials.get_application_default())\n",
        "worksheet = gc.open('task').sheet1\n",
        "rows = worksheet.get_all_values()\n",
        "df = pd.DataFrame.from_records(rows[1:],columns=rows[0]).astype(np.float)\n",
        "v = df['Reward'].tolist()\n",
        "t = df['Effort'].tolist()\n",
        "total_time = 20\n",
        "get_opt_tasks(v, t, total_time) "
      ],
      "metadata": {
        "id": "9mnzUjhCuHZO",
        "outputId": "311345f1-112e-4b33-e069-45b648b1e3f9",
        "colab": {
          "base_uri": "https://localhost:8080/"
        }
      },
      "execution_count": 62,
      "outputs": [
        {
          "output_type": "stream",
          "name": "stdout",
          "text": [
            "pciked tasks with efficiency=[(7, 2.4), (4, 2.0), (3, 2.5), (2, 2.25), (1, 2.3333333333333335)]\n",
            "ordered tasks=[3, 7, 1, 2, 4]\n",
            "total value=45.0\n"
          ]
        },
        {
          "output_type": "execute_result",
          "data": {
            "text/plain": [
              "([3, 7, 1, 2, 4], 45.0)"
            ]
          },
          "metadata": {},
          "execution_count": 62
        }
      ]
    }
  ]
}