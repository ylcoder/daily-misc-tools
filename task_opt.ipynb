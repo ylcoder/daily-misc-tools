{
  "nbformat": 4,
  "nbformat_minor": 0,
  "metadata": {
    "colab": {
      "name": "scratch2.ipynb",
      "provenance": [],
      "collapsed_sections": [],
      "authorship_tag": "ABX9TyN+sFppURuC/eahG0c0tu4/",
      "include_colab_link": true
    },
    "kernelspec": {
      "name": "python3",
      "display_name": "Python 3"
    },
    "language_info": {
      "name": "python"
    }
  },
  "cells": [
    {
      "cell_type": "markdown",
      "metadata": {
        "id": "view-in-github",
        "colab_type": "text"
      },
      "source": [
        "<a href=\"https://colab.research.google.com/github/ylcoder/daily-misc-tools/blob/main/task_opt.ipynb\" target=\"_parent\"><img src=\"https://colab.research.google.com/assets/colab-badge.svg\" alt=\"Open In Colab\"/></a>"
      ]
    },
    {
      "cell_type": "markdown",
      "source": [
        "Equal subset sum partition\n",
        "\n",
        "Problem statement: Given a set of positive numbers, find if we can partition it into two subsets such that the sum of elements in both subsets is equal.\n",
        "\n",
        "see http://web.cecs.pdx.edu/~bart/cs510ai/papers/korf-ckk.pdf "
      ],
      "metadata": {
        "id": "KMkH23IvIUOp"
      }
    },
    {
      "cell_type": "code",
      "execution_count": null,
      "metadata": {
        "id": "YlCPlEn3IQco"
      },
      "outputs": [],
      "source": [
        ""
      ]
    },
    {
      "cell_type": "markdown",
      "source": [
        "Merge overlapping intervals\n",
        "\n",
        "Problem statement: You are given an array (list) of interval pairs as input where each interval has a start and end timestamp. The input array is sorted by starting timestamps. You are required to merge overlapping intervals and return output array (list)."
      ],
      "metadata": {
        "id": "-jt5hVptJ7oS"
      }
    },
    {
      "cell_type": "code",
      "source": [
        "intervals = [[1,2], [2,6], [7,8]]\n",
        "final = []\n",
        "p = intervals.pop(0) #previous\n",
        "while len(intervals) > 0:\n",
        "  c = intervals.pop(0) #current\n",
        "  if p[1] < c[0]:  #no overlap\n",
        "    final.append(p)\n",
        "    p = c\n",
        "  else:  #merge to one interval\n",
        "    p[1] = max(p[1], c[1]) \n",
        "\n",
        "final.append(p)\n",
        "\n",
        "final\n"
      ],
      "metadata": {
        "colab": {
          "base_uri": "https://localhost:8080/"
        },
        "id": "wyothErkdb5m",
        "outputId": "5ba48e21-9abb-4d9a-f582-b2bb5d874366"
      },
      "execution_count": 8,
      "outputs": [
        {
          "output_type": "execute_result",
          "data": {
            "text/plain": [
              "[[1, 6], [7, 8]]"
            ]
          },
          "metadata": {},
          "execution_count": 8
        }
      ]
    },
    {
      "cell_type": "markdown",
      "source": [
        ""
      ],
      "metadata": {
        "id": "VZpfRzIuITLZ"
      }
    }
  ]
}